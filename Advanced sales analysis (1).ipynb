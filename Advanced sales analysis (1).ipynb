{
 "cells": [
  {
   "cell_type": "code",
   "execution_count": 1,
   "id": "72ad5b30-78b1-4cdc-876f-b33a9bab061c",
   "metadata": {},
   "outputs": [
    {
     "data": {
      "text/plain": [
       "<bound method NDFrame.head of     OrderID         CustomerName  Category  Amount  Rating   OrderDate\n",
       "0         1          Justin Hahn     Books 353.32        4  18-01-2025\n",
       "1         2     Joshua Velasquez     Books 469.74        2  02-09-2024\n",
       "2         3           Karen Tran  Clothing 671.81        4  13-07-2024\n",
       "3         4       Andrew Roberts      Home 386.22        2  07-06-2024\n",
       "4         5        Patricia Boyd      Toys 722.20        1  13-12-2024\n",
       "..      ...                  ...       ...     ...     ...         ...\n",
       "95       96        Rachel Hughes      Home 391.79        1  26-02-2025\n",
       "96       97          Susan Brown     Books 679.11        3  12-10-2024\n",
       "97       98  Miss Ashley Aguilar      Home 705.52        1  17-06-2024\n",
       "98       99      Jessica Johnson     Books 770.00        3  04-07-2024\n",
       "99      100         James Brewer     Books 711.10        1  25-04-2024\n",
       "\n",
       "[100 rows x 6 columns]>"
      ]
     },
     "execution_count": 1,
     "metadata": {},
     "output_type": "execute_result"
    }
   ],
   "source": [
    "import pandas as pd\n",
    "import numpy as np\n",
    "import matplotlib.pyplot as plt\n",
    "import seaborn as sns\n",
    "pd.set_option('display.float_format', '{:.2f} '.format)\n",
    "df = pd.read_csv(\"sales_data.csv\")\n",
    "df.head"
   ]
  },
  {
   "cell_type": "code",
   "execution_count": 2,
   "id": "bdc9d3cd-5237-4009-9acf-5896695317d2",
   "metadata": {},
   "outputs": [
    {
     "name": "stdout",
     "output_type": "stream",
     "text": [
      "<class 'pandas.core.frame.DataFrame'>\n",
      "RangeIndex: 100 entries, 0 to 99\n",
      "Data columns (total 6 columns):\n",
      " #   Column        Non-Null Count  Dtype  \n",
      "---  ------        --------------  -----  \n",
      " 0   OrderID       100 non-null    int64  \n",
      " 1   CustomerName  100 non-null    object \n",
      " 2   Category      100 non-null    object \n",
      " 3   Amount        100 non-null    float64\n",
      " 4   Rating        100 non-null    int64  \n",
      " 5   OrderDate     100 non-null    object \n",
      "dtypes: float64(1), int64(2), object(3)\n",
      "memory usage: 4.8+ KB\n"
     ]
    },
    {
     "data": {
      "text/plain": [
       "OrderID         0\n",
       "CustomerName    0\n",
       "Category        0\n",
       "Amount          0\n",
       "Rating          0\n",
       "OrderDate       0\n",
       "dtype: int64"
      ]
     },
     "execution_count": 2,
     "metadata": {},
     "output_type": "execute_result"
    }
   ],
   "source": [
    "df.info()\n",
    "df.describe()\n",
    "df.isnull().sum()"
   ]
  },
  {
   "cell_type": "code",
   "execution_count": 4,
   "id": "edcbb417-8bee-4c83-8536-7c1e62f4b0c5",
   "metadata": {},
   "outputs": [
    {
     "name": "stdout",
     "output_type": "stream",
     "text": [
      "Index(['OrderID', 'CustomerName', 'Category', 'Amount', 'Rating', 'OrderDate',\n",
      "       'Month', 'Day'],\n",
      "      dtype='object')\n"
     ]
    }
   ],
   "source": [
    "print(df.columns)\n",
    "df.columns = df.columns.str.strip()\n",
    "df['OrderDate'] = pd.to_datetime(df['OrderDate'], errors = 'coerce')\n",
    "df['Month'] = df['OrderDate'].dt.to_period('M')\n",
    "df['Day'] = df['OrderDate'].dt.date"
   ]
  },
  {
   "cell_type": "code",
   "execution_count": 5,
   "id": "6f6d25ec-d5ba-4ac6-bea2-1836151f163c",
   "metadata": {},
   "outputs": [
    {
     "data": {
      "text/plain": [
       "57215.45"
      ]
     },
     "execution_count": 5,
     "metadata": {},
     "output_type": "execute_result"
    }
   ],
   "source": [
    "###1.total revenue\n",
    "df['Amount'].sum()"
   ]
  },
  {
   "cell_type": "code",
   "execution_count": 6,
   "id": "ccfeaa8c-b601-4527-bc65-2859de17670a",
   "metadata": {},
   "outputs": [
    {
     "data": {
      "text/plain": [
       "Category\n",
       "Books         14178.43 \n",
       "Home          11975.88 \n",
       "Toys          10627.08 \n",
       "Clothing      10549.91 \n",
       "Electronics    9884.15 \n",
       "Name: Amount, dtype: float64"
      ]
     },
     "execution_count": 6,
     "metadata": {},
     "output_type": "execute_result"
    }
   ],
   "source": [
    "### category with highest revenue\n",
    "df.groupby('Category')['Amount'].sum().sort_values(ascending = False)"
   ]
  },
  {
   "cell_type": "code",
   "execution_count": 7,
   "id": "06b51c89-22af-4c91-baee-3568861349e7",
   "metadata": {},
   "outputs": [
    {
     "data": {
      "text/plain": [
       "Category\n",
       "Clothing      3.78 \n",
       "Electronics   3.19 \n",
       "Books         2.69 \n",
       "Toys          2.50 \n",
       "Home          2.32 \n",
       "Name: Rating, dtype: float64"
      ]
     },
     "execution_count": 7,
     "metadata": {},
     "output_type": "execute_result"
    }
   ],
   "source": [
    "### 3.Average rating per category\n",
    "df.groupby('Category')['Rating'].mean().sort_values(ascending = False)"
   ]
  },
  {
   "cell_type": "code",
   "execution_count": 8,
   "id": "7a584fd3-6bad-47a6-a3f0-216036e1987c",
   "metadata": {},
   "outputs": [
    {
     "data": {
      "image/png": "[encoded data removed]",
      "text/plain": [
       "<Figure size 640x480 with 1 Axes>"
      ]
     },
     "metadata": {},
     "output_type": "display_data"
    }
   ],
   "source": [
    "### 4.monthly revenue trend\n",
    "monthly_revenue = df.groupby('Month')['Amount'].sum()\n",
    "monthly_revenue.plot(kind='line',title='Monthly Revenue',marker='o')\n",
    "plt.ylabel(\"revenue\")\n",
    "plt.grid()\n",
    "plt.show()\n"
   ]
  },
  {
   "cell_type": "code",
   "execution_count": 9,
   "id": "365165aa-03bc-45de-9f9a-d0b9a4038790",
   "metadata": {},
   "outputs": [
    {
     "data": {
      "text/plain": [
       "CustomerName\n",
       "Michael Johnson     996.34 \n",
       "Sergio Robinson     992.05 \n",
       "Crystal Zimmerman   981.09 \n",
       "Vanessa Boyd        979.21 \n",
       "Nicole Henry        977.37 \n",
       "Name: Amount, dtype: float64"
      ]
     },
     "execution_count": 9,
     "metadata": {},
     "output_type": "execute_result"
    }
   ],
   "source": [
    "### 5.top 5 customers by total spend\n",
    "df.groupby('CustomerName')['Amount'].sum().sort_values(ascending = False).head(5)"
   ]
  },
  {
   "cell_type": "code",
   "execution_count": 10,
   "id": "4be08641-ba78-40ee-9899-99ef5540b728",
   "metadata": {},
   "outputs": [
    {
     "data": {
      "text/plain": [
       "15"
      ]
     },
     "execution_count": 10,
     "metadata": {},
     "output_type": "execute_result"
    }
   ],
   "source": [
    "##3 6.count of perfect 5-star orders\n",
    "(df['Rating'] == 5).sum()"
   ]
  },
  {
   "cell_type": "code",
   "execution_count": 11,
   "id": "3ac9dea4-7951-491d-b6e8-1a0b56bec869",
   "metadata": {},
   "outputs": [
    {
     "data": {
      "text/plain": [
       "Category\n",
       "Books         545.32 \n",
       "Clothing      586.11 \n",
       "Electronics   617.76 \n",
       "Home          544.36 \n",
       "Toys          590.39 \n",
       "Name: Amount, dtype: float64"
      ]
     },
     "execution_count": 11,
     "metadata": {},
     "output_type": "execute_result"
    }
   ],
   "source": [
    "### 7.Avg order amount per category\n",
    "df.groupby('Category')['Amount'].mean()"
   ]
  },
  {
   "cell_type": "code",
   "execution_count": 12,
   "id": "43be24ac-50dd-4eb4-ad46-be6afe55f5d4",
   "metadata": {},
   "outputs": [
    {
     "data": {
      "text/plain": [
       "Category\n",
       "Books          26\n",
       "Home           22\n",
       "Clothing       18\n",
       "Toys           18\n",
       "Electronics    16\n",
       "Name: count, dtype: int64"
      ]
     },
     "execution_count": 12,
     "metadata": {},
     "output_type": "execute_result"
    }
   ],
   "source": [
    "### 8.Number of orders per category\n",
    "df['Category'].value_counts()"
   ]
  },
  {
   "cell_type": "code",
   "execution_count": 13,
   "id": "09143e39-3555-494b-b01c-beca047d24e5",
   "metadata": {},
   "outputs": [
    {
     "data": {
      "text/plain": [
       "Day\n",
       "2025-04-12   1826.84 \n",
       "Name: Amount, dtype: float64"
      ]
     },
     "execution_count": 13,
     "metadata": {},
     "output_type": "execute_result"
    }
   ],
   "source": [
    "### 9.Day with highest total sales\n",
    "df.groupby('Day')['Amount'].sum().sort_values(ascending=False).head(1)"
   ]
  },
  {
   "cell_type": "code",
   "execution_count": 14,
   "id": "2d410ebc-71bd-4502-a492-f0941b5f3d9a",
   "metadata": {},
   "outputs": [
    {
     "data": {
      "text/plain": [
       "100"
      ]
     },
     "execution_count": 14,
     "metadata": {},
     "output_type": "execute_result"
    }
   ],
   "source": [
    "### 10.Unique customers\n",
    "df['CustomerName'].nunique()"
   ]
  },
  {
   "cell_type": "code",
   "execution_count": 15,
   "id": "36d8e773-dd08-4522-95e7-0c30b071741d",
   "metadata": {},
   "outputs": [
    {
     "data": {
      "text/plain": [
       "1"
      ]
     },
     "execution_count": 15,
     "metadata": {},
     "output_type": "execute_result"
    }
   ],
   "source": [
    "### 11.most frequent rating\n",
    "df['Rating'].mode()[0]"
   ]
  },
  {
   "cell_type": "code",
   "execution_count": 17,
   "id": "9ea160e0-6503-425d-8e89-611a2df8cc5d",
   "metadata": {},
   "outputs": [
    {
     "data": {
      "text/plain": [
       "Rating\n",
       "1   14985.04 \n",
       "2   10436.78 \n",
       "3    8722.54 \n",
       "4   14339.71 \n",
       "5    8731.38 \n",
       "Name: Amount, dtype: float64"
      ]
     },
     "execution_count": 17,
     "metadata": {},
     "output_type": "execute_result"
    }
   ],
   "source": [
    "### 12.revnue per rating score\n",
    "df.groupby('Rating')['Amount'].sum()"
   ]
  },
  {
   "cell_type": "code",
   "execution_count": 20,
   "id": "eb231ce0-87d4-4d56-af43-75beec4e5878",
   "metadata": {},
   "outputs": [
    {
     "name": "stdout",
     "output_type": "stream",
     "text": [
      "Index(['OrderID', 'CustomerName', 'Category', 'Amount', 'Rating', 'OrderDate',\n",
      "       'Month', 'Day'],\n",
      "      dtype='object')\n"
     ]
    }
   ],
   "source": [
    "\n",
    "print (df.columns)\n"
   ]
  },
  {
   "cell_type": "code",
   "execution_count": 22,
   "id": "568fc415-da82-43bf-a184-c658a55d37e7",
   "metadata": {},
   "outputs": [
    {
     "data": {
      "text/plain": [
       "CustomerName\n",
       "Regina Bates    1\n",
       "Name: count, dtype: int64"
      ]
     },
     "execution_count": 22,
     "metadata": {},
     "output_type": "execute_result"
    }
   ],
   "source": [
    "### 13.customer who gave most 5-star ratings\n",
    "df[df['Rating'] == 5]['CustomerName'].value_counts().head(1)"
   ]
  },
  {
   "cell_type": "markdown",
   "id": "da01f50b-70ab-4726-a088-b8a87d99ffa1",
   "metadata": {},
   "source": [
    "### 14.avg order per order by month\n",
    "df.groupby('Month')['Amount'].mean()"
   ]
  },
  {
   "cell_type": "code",
   "execution_count": 23,
   "id": "84400263-5d32-4ea4-9474-719465bac65a",
   "metadata": {},
   "outputs": [
    {
     "data": {
      "text/plain": [
       "Month\n",
       "2024-04   498.73 \n",
       "2024-05   589.17 \n",
       "2024-06   569.41 \n",
       "2024-07   620.65 \n",
       "2024-08   614.07 \n",
       "2024-09   427.78 \n",
       "2024-10   341.83 \n",
       "2024-11   617.88 \n",
       "2024-12   590.47 \n",
       "2025-01   555.58 \n",
       "2025-02   547.48 \n",
       "2025-03   555.94 \n",
       "2025-04   852.39 \n",
       "Freq: M, Name: Amount, dtype: float64"
      ]
     },
     "execution_count": 23,
     "metadata": {},
     "output_type": "execute_result"
    }
   ],
   "source": [
    "df.groupby('Month')['Amount'].mean()"
   ]
  },
  {
   "cell_type": "code",
   "execution_count": 25,
   "id": "2c16a57a-d0c1-43f1-9243-e149949403f4",
   "metadata": {},
   "outputs": [
    {
     "data": {
      "text/plain": [
       "16.752066094035793"
      ]
     },
     "execution_count": 25,
     "metadata": {},
     "output_type": "execute_result"
    }
   ],
   "source": [
    "### 15.revenue from top 10% customers\n",
    "top_customers = df.groupby('CustomerName')['Amount'].sum()\n",
    "threshold = top_customers.quantile(0.90)\n",
    "top_10_percent_revenue = top_customers[top_customers >= threshold].sum()\n",
    "total_revenue = df['Amount'].sum()\n",
    "(top_10_percent_revenue / total_revenue) * 100"
   ]
  },
  {
   "cell_type": "code",
   "execution_count": 26,
   "id": "239a43ce-1c47-48d1-af67-d863e0b2cd74",
   "metadata": {},
   "outputs": [
    {
     "data": {
      "text/plain": [
       "Series([], Name: count, dtype: int64)"
      ]
     },
     "execution_count": 26,
     "metadata": {},
     "output_type": "execute_result"
    }
   ],
   "source": [
    "### 16.Customers with more then 3 orders\n",
    "df['CustomerName'].value_counts()[df['CustomerName'].value_counts() > 3]"
   ]
  },
  {
   "cell_type": "code",
   "execution_count": 27,
   "id": "6b146d53-16ca-4588-b1c2-ee2fcb7fb898",
   "metadata": {},
   "outputs": [
    {
     "data": {
      "text/plain": [
       "CustomerName\n",
       "Justin Hahn       1\n",
       "Terri Pearson     1\n",
       "Mark Bishop       1\n",
       "Sally Smith       1\n",
       "Charles Walker    1\n",
       "                 ..\n",
       "John Ferguson     1\n",
       "Austin Perry      1\n",
       "Jackie Douglas    1\n",
       "Tina Webb         1\n",
       "James Brewer      1\n",
       "Name: count, Length: 100, dtype: int64"
      ]
     },
     "execution_count": 27,
     "metadata": {},
     "output_type": "execute_result"
    }
   ],
   "source": [
    "df['CustomerName'].value_counts()"
   ]
  },
  {
   "cell_type": "code",
   "execution_count": 28,
   "id": "076ea5be-860d-4102-974b-8b5794d62c29",
   "metadata": {},
   "outputs": [
    {
     "data": {
      "text/plain": [
       "2.85"
      ]
     },
     "execution_count": 28,
     "metadata": {},
     "output_type": "execute_result"
    }
   ],
   "source": [
    "### 17.average rating across all orders\n",
    "df['Rating'].mean()"
   ]
  },
  {
   "cell_type": "code",
   "execution_count": 29,
   "id": "2ffc68fe-4844-4d41-86fa-cd5664b96bdc",
   "metadata": {},
   "outputs": [
    {
     "data": {
      "text/plain": [
       "Category\n",
       "Electronics   617.76 \n",
       "Toys          590.39 \n",
       "Clothing      586.11 \n",
       "Books         545.32 \n",
       "Home          544.36 \n",
       "Name: Amount, dtype: float64"
      ]
     },
     "execution_count": 29,
     "metadata": {},
     "output_type": "execute_result"
    }
   ],
   "source": [
    "### 18.category with highest avg order value\n",
    "df.groupby('Category')['Amount'].mean().sort_values(ascending = False).head()"
   ]
  },
  {
   "cell_type": "code",
   "execution_count": 31,
   "id": "02d45d7c-0085-4d69-b433-771b42551e5b",
   "metadata": {},
   "outputs": [
    {
     "data": {
      "text/plain": [
       "Category\n",
       "Books         24.78 \n",
       "Clothing      18.44 \n",
       "Electronics   17.28 \n",
       "Home          20.93 \n",
       "Toys          18.57 \n",
       "Name: Amount, dtype: float64"
      ]
     },
     "execution_count": 31,
     "metadata": {},
     "output_type": "execute_result"
    }
   ],
   "source": [
    "### 19.Revenue % by category\n",
    "category_revenue = df.groupby('Category')['Amount'].sum()\n",
    "(category_revenue / category_revenue.sum()) *100"
   ]
  },
  {
   "cell_type": "code",
   "execution_count": 32,
   "id": "c734310a-2889-47cb-a733-e843e3e9aaaa",
   "metadata": {},
   "outputs": [
    {
     "data": {
      "text/plain": [
       "Category\n",
       "Clothing       6\n",
       "Electronics    4\n",
       "Home           3\n",
       "Books          1\n",
       "Toys           1\n",
       "dtype: int64"
      ]
     },
     "execution_count": 32,
     "metadata": {},
     "output_type": "execute_result"
    }
   ],
   "source": [
    "### 20.category with most 5-star ratings\n",
    "df[df['Rating'] == 5].groupby('Category').size().sort_values(ascending=False)"
   ]
  },
  {
   "cell_type": "code",
   "execution_count": 33,
   "id": "82c30bbe-df5c-4d29-bc2f-976452675b0b",
   "metadata": {},
   "outputs": [
    {
     "data": {
      "text/plain": [
       "Month\n",
       "2025-04   3.83 \n",
       "Freq: M, Name: Rating, dtype: float64"
      ]
     },
     "execution_count": 33,
     "metadata": {},
     "output_type": "execute_result"
    }
   ],
   "source": [
    "### 21.month with highest avg rating\n",
    "df.groupby('Month')['Rating'].mean().sort_values(ascending=False).head(1)"
   ]
  },
  {
   "cell_type": "code",
   "execution_count": 34,
   "id": "bb7ee4ca-9b54-432c-9eed-40a5267392f7",
   "metadata": {},
   "outputs": [
    {
     "data": {
      "text/plain": [
       "CustomerName\n",
       "Michael Johnson   996.34 \n",
       "Name: Amount, dtype: float64"
      ]
     },
     "execution_count": 34,
     "metadata": {},
     "output_type": "execute_result"
    }
   ],
   "source": [
    "### 22.customer with highest average order value\n",
    "df.groupby('CustomerName')['Amount'].mean().sort_values(ascending=False).head(1)"
   ]
  },
  {
   "cell_type": "code",
   "execution_count": 37,
   "id": "27021825-aabb-466c-b117-488752713167",
   "metadata": {},
   "outputs": [
    {
     "data": {
      "text/plain": [
       "Month\n",
       "2024-04     0.00 \n",
       "2024-05    41.76 \n",
       "2024-06    12.75 \n",
       "2024-07    40.14 \n",
       "2024-08     9.93 \n",
       "2024-09   -51.24 \n",
       "2024-10   -42.92 \n",
       "2024-11   153.06 \n",
       "2024-12    22.87 \n",
       "2025-01     4.54 \n",
       "2025-02    18.25 \n",
       "2025-03   -40.77 \n",
       "2025-04    31.42 \n",
       "Freq: M, Name: Amount, dtype: float64"
      ]
     },
     "execution_count": 37,
     "metadata": {},
     "output_type": "execute_result"
    }
   ],
   "source": [
    "###23.Month-over-month revenue growth\n",
    "monthly = df.groupby('Month')['Amount'].sum()\n",
    "monthly.pct_change().fillna(0) * 100"
   ]
  },
  {
   "cell_type": "code",
   "execution_count": 39,
   "id": "c0de1528-7db2-459f-96c4-e4860c926f21",
   "metadata": {},
   "outputs": [
    {
     "data": {
      "text/plain": [
       "set()"
      ]
     },
     "execution_count": 39,
     "metadata": {},
     "output_type": "execute_result"
    }
   ],
   "source": [
    "### 24.customer who gave both 1-star and 5-star ratings\n",
    "one_star = set(df[df['Rating'] == 1]['CustomerName'])\n",
    "five_star = set(df[df['Rating'] == 5]['CustomerName'])\n",
    "one_star & five_star"
   ]
  },
  {
   "cell_type": "code",
   "execution_count": 41,
   "id": "fe68a5b9-5fb3-4d3c-a1bd-60cd88d3b368",
   "metadata": {},
   "outputs": [
    {
     "data": {
      "text/plain": [
       "582.092"
      ]
     },
     "execution_count": 41,
     "metadata": {},
     "output_type": "execute_result"
    }
   ],
   "source": [
    "### 25.Avg order value for 5-star ratings\n",
    "df[df['Rating'] == 5]['Amount'].mean()"
   ]
  },
  {
   "cell_type": "code",
   "execution_count": 47,
   "id": "51f80fd8-6c1f-49fe-a2f7-0f9c770c9172",
   "metadata": {},
   "outputs": [
    {
     "name": "stdout",
     "output_type": "stream",
     "text": [
      "CustomerName\n",
      "Amy Harrington           4\n",
      "Austin Perry             4\n",
      "Colleen Gordon           4\n",
      "Crystal Watson           5\n",
      "Dawn Taylor              5\n",
      "Dr. Christopher Woods    4\n",
      "Fred Jennings            5\n",
      "Hannah Johnson           5\n",
      "Heather Robinson         4\n",
      "Jackie Douglas           4\n",
      "Jennifer Gates           4\n",
      "Jillian Shaw             4\n",
      "John Ferguson            4\n",
      "Joseph Sampson           4\n",
      "Juan Patterson           5\n",
      "Julie Bailey             5\n",
      "Justin Hahn              4\n",
      "Karen Tran               4\n",
      "Lisa Kelly               5\n",
      "Lisa Smith               5\n",
      "Mark Bishop              5\n",
      "Megan Garcia             4\n",
      "Melissa Rose             5\n",
      "Mindy Williams           4\n",
      "Nicole Wright            4\n",
      "Rachel Pham              4\n",
      "Regina Bates             5\n",
      "Ryan Mckinney            4\n",
      "Sally Smith              4\n",
      "Sara Parker              5\n",
      "Sergio Robinson          4\n",
      "Shannon Lopez            4\n",
      "Tanya Mcbride            4\n",
      "Taylor Flores            4\n",
      "Taylor Valencia          5\n",
      "Teresa Baker             5\n",
      "Timothy Woodward         4\n",
      "Tina Webb                4\n",
      "William Beard PhD        5\n",
      "William Dean             4\n",
      "Name: Rating, dtype: int64\n"
     ]
    }
   ],
   "source": [
    "### 26.customers who always rated >= 4\n",
    "min_ratings = df.groupby('CustomerName')['Rating'].min()\n",
    "customers_always_rated_4_or_above = min_ratings[min_ratings >= 4]\n",
    "print(customers_always_rated_4_or_above)"
   ]
  },
  {
   "cell_type": "code",
   "execution_count": 48,
   "id": "741828c4-ff00-494b-9292-dfbe95d68db8",
   "metadata": {},
   "outputs": [
    {
     "data": {
      "text/plain": [
       "Category\n",
       "Books         251.45 \n",
       "Clothing      217.95 \n",
       "Electronics   280.08 \n",
       "Home          271.63 \n",
       "Toys          179.93 \n",
       "Name: Amount, dtype: float64"
      ]
     },
     "execution_count": 48,
     "metadata": {},
     "output_type": "execute_result"
    }
   ],
   "source": [
    "### 27.std.deviation of amount by category\n",
    "df.groupby('Category')['Amount'].std()"
   ]
  },
  {
   "cell_type": "code",
   "execution_count": 49,
   "id": "8d665a83-28f7-4b44-851e-497b990b4ec2",
   "metadata": {},
   "outputs": [
    {
     "data": {
      "text/plain": [
       "Month\n",
       "2024-11   1.53 \n",
       "Freq: M, Name: Amount, dtype: float64"
      ]
     },
     "execution_count": 49,
     "metadata": {},
     "output_type": "execute_result"
    }
   ],
   "source": [
    "### 28.month with highest revenue growth\n",
    "growth = monthly.pct_change().fillna(0)\n",
    "growth.sort_values(ascending=False).head(1)"
   ]
  },
  {
   "cell_type": "code",
   "execution_count": 50,
   "id": "a4bd54ea-9c23-45e8-9129-fdbf3399b457",
   "metadata": {},
   "outputs": [
    {
     "data": {
      "text/plain": [
       "Category\n",
       "Home   2.32 \n",
       "Name: Rating, dtype: float64"
      ]
     },
     "execution_count": 50,
     "metadata": {},
     "output_type": "execute_result"
    }
   ],
   "source": [
    "### 29.category with lowest avg rating\n",
    "df.groupby('Category')['Rating'].mean().sort_values().head(1)"
   ]
  },
  {
   "cell_type": "code",
   "execution_count": 53,
   "id": "df9acdb7-75f7-43b5-b1dd-582b09afdb20",
   "metadata": {},
   "outputs": [
    {
     "data": {
      "text/html": [
       "<div>\n",
       "<style scoped>\n",
       "    .dataframe tbody tr th:only-of-type {\n",
       "        vertical-align: middle;\n",
       "    }\n",
       "\n",
       "    .dataframe tbody tr th {\n",
       "        vertical-align: top;\n",
       "    }\n",
       "\n",
       "    .dataframe thead th {\n",
       "        text-align: right;\n",
       "    }\n",
       "</style>\n",
       "<table border=\"1\" class=\"dataframe\">\n",
       "  <thead>\n",
       "    <tr style=\"text-align: right;\">\n",
       "      <th></th>\n",
       "      <th>OrderID</th>\n",
       "      <th>CustomerName</th>\n",
       "      <th>Category</th>\n",
       "      <th>Amount</th>\n",
       "      <th>Rating</th>\n",
       "      <th>OrderDate</th>\n",
       "      <th>Month</th>\n",
       "      <th>Day</th>\n",
       "    </tr>\n",
       "  </thead>\n",
       "  <tbody>\n",
       "    <tr>\n",
       "      <th>9</th>\n",
       "      <td>10</td>\n",
       "      <td>Nicole Henry</td>\n",
       "      <td>Home</td>\n",
       "      <td>977.37</td>\n",
       "      <td>1</td>\n",
       "      <td>2024-12-25</td>\n",
       "      <td>2024-12</td>\n",
       "      <td>2024-12-25</td>\n",
       "    </tr>\n",
       "    <tr>\n",
       "      <th>21</th>\n",
       "      <td>22</td>\n",
       "      <td>Jared Smith</td>\n",
       "      <td>Clothing</td>\n",
       "      <td>923.00</td>\n",
       "      <td>1</td>\n",
       "      <td>2024-07-09</td>\n",
       "      <td>2024-07</td>\n",
       "      <td>2024-07-09</td>\n",
       "    </tr>\n",
       "    <tr>\n",
       "      <th>57</th>\n",
       "      <td>58</td>\n",
       "      <td>Vanessa Boyd</td>\n",
       "      <td>Electronics</td>\n",
       "      <td>979.21</td>\n",
       "      <td>2</td>\n",
       "      <td>2024-06-08</td>\n",
       "      <td>2024-06</td>\n",
       "      <td>2024-06-08</td>\n",
       "    </tr>\n",
       "    <tr>\n",
       "      <th>71</th>\n",
       "      <td>72</td>\n",
       "      <td>Charles Walker</td>\n",
       "      <td>Home</td>\n",
       "      <td>972.82</td>\n",
       "      <td>1</td>\n",
       "      <td>2024-08-14</td>\n",
       "      <td>2024-08</td>\n",
       "      <td>2024-08-14</td>\n",
       "    </tr>\n",
       "    <tr>\n",
       "      <th>91</th>\n",
       "      <td>92</td>\n",
       "      <td>Crystal Zimmerman</td>\n",
       "      <td>Home</td>\n",
       "      <td>981.09</td>\n",
       "      <td>2</td>\n",
       "      <td>2024-08-19</td>\n",
       "      <td>2024-08</td>\n",
       "      <td>2024-08-19</td>\n",
       "    </tr>\n",
       "  </tbody>\n",
       "</table>\n",
       "</div>"
      ],
      "text/plain": [
       "    OrderID       CustomerName     Category  Amount  Rating  OrderDate  \\\n",
       "9        10       Nicole Henry         Home 977.37        1 2024-12-25   \n",
       "21       22        Jared Smith     Clothing 923.00        1 2024-07-09   \n",
       "57       58       Vanessa Boyd  Electronics 979.21        2 2024-06-08   \n",
       "71       72     Charles Walker         Home 972.82        1 2024-08-14   \n",
       "91       92  Crystal Zimmerman         Home 981.09        2 2024-08-19   \n",
       "\n",
       "      Month         Day  \n",
       "9   2024-12  2024-12-25  \n",
       "21  2024-07  2024-07-09  \n",
       "57  2024-06  2024-06-08  \n",
       "71  2024-08  2024-08-14  \n",
       "91  2024-08  2024-08-19  "
      ]
     },
     "execution_count": 53,
     "metadata": {},
     "output_type": "execute_result"
    }
   ],
   "source": [
    "### 30.High value but poorly rated orders\n",
    "df[(df['Amount'] >df['Amount'].quantile(0.9)) & (df['Rating'] <= 2)]"
   ]
  },
  {
   "cell_type": "code",
   "execution_count": null,
   "id": "3108e7e1-d1fb-416c-8b3b-d87f04c54f68",
   "metadata": {},
   "outputs": [],
   "source": []
  }
 ],
 "metadata": {
  "kernelspec": {
   "display_name": "Python 3 (ipykernel)",
   "language": "python",
   "name": "python3"
  },
  "language_info": {
   "codemirror_mode": {
    "name": "ipython",
    "version": 3
   },
   "file_extension": ".py",
   "mimetype": "text/x-python",
   "name": "python",
   "nbconvert_exporter": "python",
   "pygments_lexer": "ipython3",
   "version": "3.11.7"
  }
 },
 "nbformat": 4,
 "nbformat_minor": 5
}
